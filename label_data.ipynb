{
 "cells": [
  {
   "cell_type": "markdown",
   "metadata": {},
   "source": [
    "# Label Data\n",
    "- Take in screenshots of game\n",
    "- Grab balls and save crops of individual balls\n",
    "- User input for labeling and grouping ball types into their own folders"
   ]
  },
  {
   "cell_type": "code",
   "execution_count": 2,
   "metadata": {},
   "outputs": [
    {
     "name": "stdout",
     "output_type": "stream",
     "text": [
      "dict_keys(['playable_area', 'pockets'])\n"
     ]
    }
   ],
   "source": [
    "import project\n",
    "import cv2\n",
    "import numpy as np\n",
    "import matplotlib.pyplot as plt\n",
    "import json\n",
    "from scipy.stats import norm\n",
    "from pathlib import Path\n",
    "\n",
    "constants = json.load(open('constants.json'))\n",
    "print(constants.keys())"
   ]
  },
  {
   "cell_type": "code",
   "execution_count": 3,
   "metadata": {},
   "outputs": [],
   "source": [
    "screenshots_dir = Path('./screenshots')\n",
    "labeling_dir = Path('./labeling')\n",
    "if not labeling_dir.exists():\n",
    "    labeling_dir.mkdir()\n",
    "unlabeled_dir = Path('./labeling/unlabeled')\n",
    "if not unlabeled_dir.exists():\n",
    "    unlabeled_dir.mkdir()"
   ]
  },
  {
   "cell_type": "code",
   "execution_count": null,
   "metadata": {},
   "outputs": [
    {
     "ename": "NameError",
     "evalue": "name 'screenshots_dir' is not defined",
     "output_type": "error",
     "traceback": [
      "\u001b[0;31m---------------------------------------------------------------------------\u001b[0m",
      "\u001b[0;31mNameError\u001b[0m                                 Traceback (most recent call last)",
      "Cell \u001b[0;32mIn[3], line 6\u001b[0m\n\u001b[1;32m      1\u001b[0m \u001b[38;5;66;03m# take images from screenshots directory -> crop individual balls\u001b[39;00m\n\u001b[1;32m      3\u001b[0m show_outputs \u001b[38;5;241m=\u001b[39m \u001b[38;5;28;01mFalse\u001b[39;00m  \u001b[38;5;66;03m# for debugging, turn off when actually cropping and getting data\u001b[39;00m\n\u001b[0;32m----> 6\u001b[0m screenshots \u001b[38;5;241m=\u001b[39m \u001b[38;5;28msorted\u001b[39m(\u001b[43mscreenshots_dir\u001b[49m\u001b[38;5;241m.\u001b[39mglob(\u001b[38;5;124m'\u001b[39m\u001b[38;5;124mscreenshot_*.png\u001b[39m\u001b[38;5;124m'\u001b[39m))\n\u001b[1;32m      8\u001b[0m \u001b[38;5;66;03m# get highest numbered unlabeled ball to count upward\u001b[39;00m\n\u001b[1;32m      9\u001b[0m file_counter \u001b[38;5;241m=\u001b[39m \u001b[38;5;241m0\u001b[39m\n",
      "\u001b[0;31mNameError\u001b[0m: name 'screenshots_dir' is not defined"
     ]
    }
   ],
   "source": [
    "# take images from screenshots directory -> crop individual balls\n",
    "\n",
    "show_outputs = False  # for debugging, turn off when actually cropping and getting data\n",
    "screenshots = sorted(screenshots_dir.glob('screenshot_*.png'))\n",
    "\n",
    "# get highest numbered unlabeled ball to count upward\n",
    "file_counter = 0\n",
    "unlabeled_balls = sorted(unlabeled_dir.glob('ball_*.png'))\n",
    "if len(unlabeled_balls) > 0:\n",
    "    unlabeled_balls = [int(str(ball).split('_')[1].split('.')[0]) for ball in unlabeled_balls]\n",
    "    file_counter = max(unlabeled_balls)\n",
    "\n",
    "\n",
    "total_balls = 0\n",
    "for ss_num, screenshot in enumerate(screenshots):\n",
    "    if ss_num % 10 == 0:\n",
    "        print(f'Processing screenshot {ss_num} of {len(screenshots)}')\n",
    "    img = cv2.imread(str(screenshot))\n",
    "    img = cv2.cvtColor(img, cv2.COLOR_BGR2RGB)\n",
    "    # crop image to playable area\n",
    "    img = img[constants['playable_area']['top_left'][1]:constants['playable_area']['bottom_right'][1],\n",
    "              constants['playable_area']['top_left'][0]:constants['playable_area']['bottom_right'][0]]\n",
    "    # crop image by another 5px on each side\n",
    "    img = img[15:-15, 15:-15]\n",
    "    # show image\n",
    "    circles, data = project.generate_data(img, use_blue=False, k_1=2.5, k_2=1.5,\n",
    "                                 min_dist=20, canny=100, accum=18, min_radius=23, max_radius=27)\n",
    "    circles = circles[0]\n",
    "    # save all individual balls to unlabeled directory\n",
    "    for i, ball in enumerate(data):\n",
    "        # save ball image\n",
    "        file_counter += 1\n",
    "        filename = unlabeled_dir / f'ball_{file_counter}.png'\n",
    "        # write bgr\n",
    "        ball = cv2.cvtColor(ball, cv2.COLOR_RGB2BGR)\n",
    "        # save\n",
    "        cv2.imwrite(str(filename), ball)\n",
    "        # draw circles on img (circles is list of (x, y, r))\n",
    "    \n",
    "    total_balls += len(data)\n",
    "    \n",
    "    if show_outputs:\n",
    "        print(f'Processed {screenshot} and saved {len(data)} balls to {unlabeled_dir}')\n",
    "        for (x, y, r) in circles:\n",
    "            cv2.circle(img, (x, y), 25, (255, 0, 0), 3)\n",
    "        \n",
    "        # show img\n",
    "        plt.figure(figsize=(12,10))\n",
    "        plt.imshow(img)\n",
    "        plt.axis('off')\n",
    "        plt.show()\n",
    "        \n",
    "        # show all balls\n",
    "        n_plots = len(data)\n",
    "        fig, axes = plt.subplots(1, n_plots, figsize=(6,6))\n",
    "        for i in range(n_plots):\n",
    "            axes[i].imshow(data[i])\n",
    "            axes[i].axis('off')\n",
    "        plt.tight_layout()\n",
    "        plt.show()\n",
    "\n",
    "print(f'Processed {len(screenshots)} screenshots and saved {total_balls} balls to {unlabeled_dir}')"
   ]
  },
  {
   "cell_type": "code",
   "execution_count": null,
   "metadata": {},
   "outputs": [
    {
     "data": {
      "image/png": "[encoded data removed]",
      "text/plain": [
       "<Figure size 800x800 with 1 Axes>"
      ]
     },
     "metadata": {},
     "output_type": "display_data"
    },
    {
     "name": "stdout",
     "output_type": "stream",
     "text": [
      "Label this image:\n",
      "[1] Stripe   [2] Solid   [3] Cue   [4] Eight-ball   [5] Bad    [6] Cancel\n",
      "Labeling canceled.\n",
      "Made it up to ball_225.png, set this as the last labeled image.\n",
      "\n",
      "Images done processing!\n"
     ]
    }
   ],
   "source": [
    "import shutil\n",
    "from PIL import Image\n",
    "import matplotlib.pyplot as plt\n",
    "from IPython.display import display, clear_output\n",
    "\n",
    "label_map = {\n",
    "    '1': 'stripe',\n",
    "    '2': 'solid',\n",
    "    '3': 'cue',\n",
    "    '4': 'eight-ball',\n",
    "    '5': 'bad',\n",
    "}\n",
    "\n",
    "output_paths = {label: labeling_dir / label for label in label_map.values()}\n",
    "\n",
    "# Create output directories if they don't exist\n",
    "for path in output_paths.values():\n",
    "    path.mkdir(parents=True, exist_ok=True)\n",
    "\n",
    "# Initialize counters for each label\n",
    "counters = {label: len(list(output_paths[label].glob('*.png'))) + 1 for label in label_map.values()}\n",
    "\n",
    "path_name_alr_labeled = 'ball_225.png'\n",
    "\n",
    "\n",
    "# Process all images in the unlabeled directory\n",
    "for img_path in sorted(unlabeled_dir.glob('*.*')):  # Match any image extension\n",
    "    # skip if already labeled\n",
    "    if path_name_alr_labeled is not None and img_path.name <= path_name_alr_labeled:\n",
    "        continue\n",
    "\n",
    "    try:\n",
    "        # Clear previous outputs\n",
    "        clear_output(wait=True)\n",
    "        \n",
    "        # Display the image\n",
    "        img = Image.open(img_path)\n",
    "        plt.figure(figsize=(8, 8))\n",
    "        plt.imshow(img)\n",
    "        plt.axis('off')\n",
    "        plt.title(f'File: {img_path.name}')\n",
    "        display(plt.gcf())\n",
    "        plt.close()\n",
    "        \n",
    "        # Show labeling options\n",
    "        print(\"Label this image:\")\n",
    "        print(\"[1] Stripe   [2] Solid   [3] Cue   [4] Eight-ball   [5] Bad    [6] Cancel\")\n",
    "        \n",
    "        # Get the label input\n",
    "        label_input = input(\"[1] Stripe   [2] Solid   [3] Cue   [4] Eight-ball   [5] Bad    [6] Cancel\").strip()\n",
    "\n",
    "        if label_input == '6':\n",
    "            print(\"Labeling canceled.\")\n",
    "            print(f'Made it up to {img_path.name}, set this as the last labeled image.')\n",
    "            break\n",
    "\n",
    "        while label_input not in label_map:\n",
    "            print(\"Invalid input. Please enter a number from 1 to 5.\")\n",
    "            label_input = input(\"Enter 1–5: \").strip()\n",
    "        if label_input == '6':\n",
    "            print(\"Labeling canceled.\")\n",
    "            print(f'Made it up to {img_path.name}')\n",
    "            quit()\n",
    "        \n",
    "        label = label_map[label_input]\n",
    "        \n",
    "        # Move and rename the file\n",
    "        count = counters[label]\n",
    "        new_filename = f\"{label}{count}.png\"\n",
    "        shutil.move(str(img_path), str(output_paths[label] / new_filename))\n",
    "        counters[label] += 1\n",
    "        \n",
    "        print(f\"Labeled as {label}, saved as {new_filename}\")\n",
    "        \n",
    "    except Exception as e:\n",
    "        print(f\"Error processing {img_path.name}: {e}\")\n",
    "\n",
    "print(\"\\nImages done processing!\")"
   ]
  },
  {
   "cell_type": "code",
   "execution_count": null,
   "metadata": {},
   "outputs": [],
   "source": []
  }
 ],
 "metadata": {
  "kernelspec": {
   "display_name": "venv",
   "language": "python",
   "name": "python3"
  },
  "language_info": {
   "codemirror_mode": {
    "name": "ipython",
    "version": 3
   },
   "file_extension": ".py",
   "mimetype": "text/x-python",
   "name": "python",
   "nbconvert_exporter": "python",
   "pygments_lexer": "ipython3",
   "version": "3.10.12"
  }
 },
 "nbformat": 4,
 "nbformat_minor": 2
}
